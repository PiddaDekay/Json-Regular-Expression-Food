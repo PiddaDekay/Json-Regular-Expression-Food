{
 "cells": [
  {
   "cell_type": "markdown",
   "metadata": {},
   "source": [
    "# Json-Regular-Expression-Food"
   ]
  },
  {
   "cell_type": "markdown",
   "metadata": {},
   "source": [
    "By author: Mingfei Ma<br>\n",
    "Date: 2/4/2021"
   ]
  },
  {
   "cell_type": "markdown",
   "metadata": {},
   "source": [
    "## 1. Objectives"
   ]
  },
  {
   "cell_type": "markdown",
   "metadata": {},
   "source": [
    "The traditional Christmas dinner is including roast pig, turkey, salmon. Anyway, it is based on meat. Another part of Christmas dinner is dessert, such as cookies, cakes and etc. This kind of food is usually prepared before Christmas, and the family sits together. Generally, children love to participate in this kind of fun, because Christmas cakes can be made according to the shape and taste of their favorite.<br>\n",
    "This research is to classify recipes to different kinds of people('vegetarian', 'vegan', 'gmoFree', 'kosher', 'halal', 'lowCarb'), give scores of recommendation for each group of people."
   ]
  },
  {
   "cell_type": "markdown",
   "metadata": {},
   "source": [
    "## 2.Data mining"
   ]
  },
  {
   "cell_type": "code",
   "execution_count": 1,
   "metadata": {},
   "outputs": [],
   "source": [
    "import json\n",
    "import re"
   ]
  },
  {
   "cell_type": "markdown",
   "metadata": {},
   "source": [
    "- read json files"
   ]
  },
  {
   "cell_type": "code",
   "execution_count": 2,
   "metadata": {
    "scrolled": true
   },
   "outputs": [],
   "source": [
    "recipe=[]\n",
    "for line in open(\"recipes.json\",\"r\"):\n",
    "    recipe.append(json.loads(line))"
   ]
  },
  {
   "cell_type": "code",
   "execution_count": 3,
   "metadata": {},
   "outputs": [
    {
     "data": {
      "text/plain": [
       "1617"
      ]
     },
     "execution_count": 3,
     "metadata": {},
     "output_type": "execute_result"
    }
   ],
   "source": [
    "len(recipe)"
   ]
  },
  {
   "cell_type": "code",
   "execution_count": 4,
   "metadata": {},
   "outputs": [
    {
     "name": "stdout",
     "output_type": "stream",
     "text": [
      "{\n",
      "    \"Name\": \"Christmas pie\",\n",
      "    \"url\": \"https://www.bbcgoodfood.com/recipes/2793/christmas-pie\",\n",
      "    \"Description\": \"Combine a few key Christmas flavours here to make a pie that both children and adults will adore\",\n",
      "    \"Author\": \"Mary Cadogan\",\n",
      "    \"Ingredients\": [\n",
      "        \"2 tbsp olive oil\",\n",
      "        \"knob butter\",\n",
      "        \"1 onion, finely chopped\",\n",
      "        \"500g sausagemeat or skinned sausages\",\n",
      "        \"grated zest of 1 lemon\",\n",
      "        \"100g fresh white breadcrumbs\",\n",
      "        \"85g ready-to-eat dried apricots, chopped\",\n",
      "        \"50g chestnut, canned or vacuum-packed, chopped\",\n",
      "        \"2 tsp chopped fresh or 1tsp dried thyme\",\n",
      "        \"100g cranberries, fresh or frozen\",\n",
      "        \"500g boneless, skinless chicken breasts\",\n",
      "        \"500g pack ready-made shortcrust pastry\",\n",
      "        \"beaten egg, to glaze\"\n",
      "    ],\n",
      "    \"Method\": [\n",
      "        \"Heat oven to 190C/fan 170C/gas 5. Heat 1 tbsp oil and the butter in a frying pan, then add the onion and fry for 5 mins until softened. Cool slightly. Tip the sausagemeat, lemon zest, breadcrumbs, apricots, chestnuts and thyme into a bowl. Add the onion and cranberries, and mix everything together with your hands, adding plenty of pepper and a little salt.\",\n",
      "        \"Cut each chicken breast into three fillets lengthwise and season all over with salt and pepper. Heat the remaining oil in the frying pan, and fry the chicken fillets quickly until browned, about 6-8 mins.\",\n",
      "        \"Roll out two-thirds of the pastry to line a 20-23cm springform or deep loose-based tart tin. Press in half the sausage mix and spread to level. Then add the chicken pieces in one layer and cover with the rest of the sausage. Press down lightly.\",\n",
      "        \"Roll out the remaining pastry. Brush the edges of the pastry with beaten egg and cover with the pastry lid. Pinch the edges to seal, then trim. Brush the top of the pie with egg, then roll out the trimmings to make holly leaf shapes and berries. Decorate the pie and brush again with egg.\",\n",
      "        \"Set the tin on a baking sheet and bake for 50-60 mins, then cool in the tin for 15 mins. Remove and leave to cool completely. Serve with a winter salad and pickles.\"\n",
      "    ]\n",
      "}\n"
     ]
    }
   ],
   "source": [
    "print(json.dumps(recipe[0],indent=4))"
   ]
  },
  {
   "cell_type": "code",
   "execution_count": 5,
   "metadata": {},
   "outputs": [],
   "source": [
    "cl={}\n",
    "for line in open(\"Database.json\",\"r\"):\n",
    "    cl.update(json.loads(line))"
   ]
  },
  {
   "cell_type": "code",
   "execution_count": 6,
   "metadata": {
    "scrolled": true
   },
   "outputs": [
    {
     "data": {
      "text/plain": [
       "dict_keys(['vegetarian', 'vegan', 'gmoFree', 'kosher', 'halal', 'lowCarb'])"
      ]
     },
     "execution_count": 6,
     "metadata": {},
     "output_type": "execute_result"
    }
   ],
   "source": [
    "cl.keys()"
   ]
  },
  {
   "cell_type": "markdown",
   "metadata": {},
   "source": [
    "- We only need \"Name\", \"Ingredients\""
   ]
  },
  {
   "cell_type": "code",
   "execution_count": 7,
   "metadata": {},
   "outputs": [],
   "source": [
    "name = []\n",
    "ingredients= []"
   ]
  },
  {
   "cell_type": "code",
   "execution_count": 8,
   "metadata": {},
   "outputs": [],
   "source": [
    "for i in range(len(recipe)):\n",
    "    name.append(recipe[i][\"Name\"])\n",
    "    ingredients.append(recipe[i][\"Ingredients\"])"
   ]
  },
  {
   "cell_type": "markdown",
   "metadata": {},
   "source": []
  },
  {
   "cell_type": "markdown",
   "metadata": {},
   "source": [
    "- vegetarian classification"
   ]
  },
  {
   "cell_type": "markdown",
   "metadata": {},
   "source": [
    "### Go through each ingredient to see how well they match the vegetarian list"
   ]
  },
  {
   "cell_type": "code",
   "execution_count": 58,
   "metadata": {},
   "outputs": [],
   "source": [
    "score_vegetarian=[]\n",
    "for ingredient in ingredients:\n",
    "    score = 0\n",
    "    for item in cl[\"vegetarian\"]:\n",
    "        for line in ingredient: \n",
    "            if item.lower() in line:\n",
    "                score = score+1\n",
    "    score_vegetarian.append(score)"
   ]
  },
  {
   "cell_type": "code",
   "execution_count": 59,
   "metadata": {},
   "outputs": [
    {
     "data": {
      "text/plain": [
       "71"
      ]
     },
     "execution_count": 59,
     "metadata": {},
     "output_type": "execute_result"
    }
   ],
   "source": [
    "max(score_vegetarian)"
   ]
  },
  {
   "cell_type": "code",
   "execution_count": 60,
   "metadata": {
    "scrolled": true
   },
   "outputs": [
    {
     "data": {
      "text/plain": [
       "377"
      ]
     },
     "execution_count": 60,
     "metadata": {},
     "output_type": "execute_result"
    }
   ],
   "source": [
    "score_vegetarian.index(max(score_vegetarian))"
   ]
  },
  {
   "cell_type": "code",
   "execution_count": 61,
   "metadata": {
    "scrolled": true
   },
   "outputs": [
    {
     "data": {
      "text/plain": [
       "'Sparkling snowfetti cake'"
      ]
     },
     "execution_count": 61,
     "metadata": {},
     "output_type": "execute_result"
    }
   ],
   "source": [
    "name[377]"
   ]
  },
  {
   "cell_type": "markdown",
   "metadata": {},
   "source": [
    "Then we got the most fit recipe for vegetarian is **Sparkling snowfetti cake**"
   ]
  },
  {
   "cell_type": "markdown",
   "metadata": {},
   "source": [
    "- vegan classification"
   ]
  },
  {
   "cell_type": "markdown",
   "metadata": {},
   "source": [
    "### Go through each ingredient to see how well they match the vegan list"
   ]
  },
  {
   "cell_type": "code",
   "execution_count": 62,
   "metadata": {},
   "outputs": [],
   "source": [
    "score_vegan=[]\n",
    "for ingredient in ingredients:\n",
    "    score = 0\n",
    "    for item in cl[\"vegan\"]:\n",
    "        for line in ingredient: \n",
    "            if item.lower() in line:\n",
    "                score = score+1\n",
    "    score_vegan.append(score)"
   ]
  },
  {
   "cell_type": "code",
   "execution_count": 63,
   "metadata": {},
   "outputs": [
    {
     "data": {
      "text/plain": [
       "557"
      ]
     },
     "execution_count": 63,
     "metadata": {},
     "output_type": "execute_result"
    }
   ],
   "source": [
    "max(score_vegan)"
   ]
  },
  {
   "cell_type": "code",
   "execution_count": 65,
   "metadata": {},
   "outputs": [
    {
     "data": {
      "text/plain": [
       "1612"
      ]
     },
     "execution_count": 65,
     "metadata": {},
     "output_type": "execute_result"
    }
   ],
   "source": [
    "score_vegan.index(max(score_vegan))"
   ]
  },
  {
   "cell_type": "code",
   "execution_count": 66,
   "metadata": {
    "scrolled": true
   },
   "outputs": [
    {
     "data": {
      "text/plain": [
       "'Flavoured butters'"
      ]
     },
     "execution_count": 66,
     "metadata": {},
     "output_type": "execute_result"
    }
   ],
   "source": [
    "name[1612]"
   ]
  },
  {
   "cell_type": "markdown",
   "metadata": {},
   "source": [
    "Then we got the most fit recipe for vegan is **Flavoured butters**"
   ]
  },
  {
   "cell_type": "markdown",
   "metadata": {},
   "source": [
    "- gmoFree classification"
   ]
  },
  {
   "cell_type": "markdown",
   "metadata": {},
   "source": [
    "### Go through each ingredient to see how well they match the gmoFree list"
   ]
  },
  {
   "cell_type": "code",
   "execution_count": 69,
   "metadata": {},
   "outputs": [],
   "source": [
    "score_gmoFree=[]\n",
    "for ingredient in ingredients:\n",
    "    score = 0\n",
    "    for item in cl[\"gmoFree\"]:\n",
    "        for line in ingredient: \n",
    "            if item.lower() in line:\n",
    "                score = score+1\n",
    "    score_gmoFree.append(score)"
   ]
  },
  {
   "cell_type": "code",
   "execution_count": 70,
   "metadata": {},
   "outputs": [
    {
     "data": {
      "text/plain": [
       "8"
      ]
     },
     "execution_count": 70,
     "metadata": {},
     "output_type": "execute_result"
    }
   ],
   "source": [
    "max(score_gmoFree)"
   ]
  },
  {
   "cell_type": "code",
   "execution_count": 71,
   "metadata": {},
   "outputs": [
    {
     "data": {
      "text/plain": [
       "957"
      ]
     },
     "execution_count": 71,
     "metadata": {},
     "output_type": "execute_result"
    }
   ],
   "source": [
    "score_gmoFree.index(max(score_gmoFree))"
   ]
  },
  {
   "cell_type": "code",
   "execution_count": 72,
   "metadata": {
    "scrolled": true
   },
   "outputs": [
    {
     "data": {
      "text/plain": [
       "'Whisky cream & jelly with toasted oat crumble & tea sorbet'"
      ]
     },
     "execution_count": 72,
     "metadata": {},
     "output_type": "execute_result"
    }
   ],
   "source": [
    "name[957]"
   ]
  },
  {
   "cell_type": "markdown",
   "metadata": {},
   "source": [
    "Then we got the most fit recipe for gmoFree is **Whisky cream & jelly with toasted oat crumble & tea sorbet**"
   ]
  },
  {
   "cell_type": "markdown",
   "metadata": {},
   "source": [
    "- kosher classification"
   ]
  },
  {
   "cell_type": "markdown",
   "metadata": {},
   "source": [
    "### Go through each ingredient to see how well they match the kosher list"
   ]
  },
  {
   "cell_type": "code",
   "execution_count": 73,
   "metadata": {},
   "outputs": [],
   "source": [
    "score_kosher=[]\n",
    "for ingredient in ingredients:\n",
    "    score = 0\n",
    "    for item in cl[\"kosher\"]:\n",
    "        for line in ingredient: \n",
    "            if item.lower() in line:\n",
    "                score = score+1\n",
    "    score_kosher.append(score)"
   ]
  },
  {
   "cell_type": "code",
   "execution_count": 74,
   "metadata": {},
   "outputs": [
    {
     "data": {
      "text/plain": [
       "86"
      ]
     },
     "execution_count": 74,
     "metadata": {},
     "output_type": "execute_result"
    }
   ],
   "source": [
    "max(score_kosher)"
   ]
  },
  {
   "cell_type": "code",
   "execution_count": 75,
   "metadata": {},
   "outputs": [
    {
     "data": {
      "text/plain": [
       "1612"
      ]
     },
     "execution_count": 75,
     "metadata": {},
     "output_type": "execute_result"
    }
   ],
   "source": [
    "score_kosher.index(max(score_kosher))"
   ]
  },
  {
   "cell_type": "code",
   "execution_count": 76,
   "metadata": {},
   "outputs": [
    {
     "data": {
      "text/plain": [
       "'Flavoured butters'"
      ]
     },
     "execution_count": 76,
     "metadata": {},
     "output_type": "execute_result"
    }
   ],
   "source": [
    "name[1612]"
   ]
  },
  {
   "cell_type": "markdown",
   "metadata": {},
   "source": [
    "Then we got the most fit recipe for kosher is **Flavoured butters**"
   ]
  },
  {
   "cell_type": "markdown",
   "metadata": {},
   "source": [
    "- halal classification"
   ]
  },
  {
   "cell_type": "markdown",
   "metadata": {},
   "source": [
    "### Go through each ingredient to see how well they match the halal list"
   ]
  },
  {
   "cell_type": "code",
   "execution_count": 77,
   "metadata": {},
   "outputs": [],
   "source": [
    "score_halal=[]\n",
    "for ingredient in ingredients:\n",
    "    score = 0\n",
    "    for item in cl[\"halal\"]:\n",
    "        for line in ingredient: \n",
    "            if item.lower() in line:\n",
    "                score = score+1\n",
    "    score_halal.append(score)"
   ]
  },
  {
   "cell_type": "code",
   "execution_count": 78,
   "metadata": {},
   "outputs": [
    {
     "data": {
      "text/plain": [
       "46"
      ]
     },
     "execution_count": 78,
     "metadata": {},
     "output_type": "execute_result"
    }
   ],
   "source": [
    "max(score_halal)"
   ]
  },
  {
   "cell_type": "code",
   "execution_count": 80,
   "metadata": {},
   "outputs": [
    {
     "data": {
      "text/plain": [
       "1612"
      ]
     },
     "execution_count": 80,
     "metadata": {},
     "output_type": "execute_result"
    }
   ],
   "source": [
    "score_halal.index(max(score_halal))"
   ]
  },
  {
   "cell_type": "code",
   "execution_count": 81,
   "metadata": {},
   "outputs": [
    {
     "data": {
      "text/plain": [
       "'Flavoured butters'"
      ]
     },
     "execution_count": 81,
     "metadata": {},
     "output_type": "execute_result"
    }
   ],
   "source": [
    "name[1612]"
   ]
  },
  {
   "cell_type": "markdown",
   "metadata": {},
   "source": [
    "Then we got the most fit recipe for halal is **Flavoured butters**"
   ]
  },
  {
   "cell_type": "markdown",
   "metadata": {},
   "source": [
    "- lowCarb classification"
   ]
  },
  {
   "cell_type": "markdown",
   "metadata": {},
   "source": [
    "### Go through each ingredient to see how well they match the lowCarb list"
   ]
  },
  {
   "cell_type": "code",
   "execution_count": 82,
   "metadata": {},
   "outputs": [],
   "source": [
    "score_lowCarb=[]\n",
    "for ingredient in ingredients:\n",
    "    score = 0\n",
    "    for item in cl[\"lowCarb\"]:\n",
    "        for line in ingredient: \n",
    "            if item.lower() in line:\n",
    "                score = score+1\n",
    "    score_lowCarb.append(score)"
   ]
  },
  {
   "cell_type": "code",
   "execution_count": 83,
   "metadata": {},
   "outputs": [
    {
     "data": {
      "text/plain": [
       "48"
      ]
     },
     "execution_count": 83,
     "metadata": {},
     "output_type": "execute_result"
    }
   ],
   "source": [
    "max(score_lowCarb)"
   ]
  },
  {
   "cell_type": "code",
   "execution_count": 84,
   "metadata": {},
   "outputs": [
    {
     "data": {
      "text/plain": [
       "1612"
      ]
     },
     "execution_count": 84,
     "metadata": {},
     "output_type": "execute_result"
    }
   ],
   "source": [
    "score_lowCarb.index(max(score_lowCarb))"
   ]
  },
  {
   "cell_type": "code",
   "execution_count": 85,
   "metadata": {},
   "outputs": [
    {
     "data": {
      "text/plain": [
       "'Flavoured butters'"
      ]
     },
     "execution_count": 85,
     "metadata": {},
     "output_type": "execute_result"
    }
   ],
   "source": [
    "name[1612]"
   ]
  },
  {
   "cell_type": "markdown",
   "metadata": {},
   "source": [
    "Then we got the most fit recipe for lowCarb is **Flavoured butters**"
   ]
  },
  {
   "cell_type": "markdown",
   "metadata": {},
   "source": [
    "## 3.Findings & Summary\n"
   ]
  },
  {
   "cell_type": "markdown",
   "metadata": {},
   "source": [
    "vegetarian"
   ]
  },
  {
   "cell_type": "code",
   "execution_count": 110,
   "metadata": {},
   "outputs": [
    {
     "data": {
      "text/plain": [
       "'Sparkling snowfetti cake'"
      ]
     },
     "execution_count": 110,
     "metadata": {},
     "output_type": "execute_result"
    }
   ],
   "source": [
    "name[score_vegetarian.index(max(score_vegetarian))]"
   ]
  },
  {
   "cell_type": "code",
   "execution_count": 111,
   "metadata": {},
   "outputs": [
    {
     "data": {
      "text/plain": [
       "'Christmas cosmopolitan'"
      ]
     },
     "execution_count": 111,
     "metadata": {},
     "output_type": "execute_result"
    }
   ],
   "source": [
    "name[score_vegetarian.index(min(score_vegetarian))]"
   ]
  },
  {
   "cell_type": "markdown",
   "metadata": {},
   "source": [
    "vegan"
   ]
  },
  {
   "cell_type": "code",
   "execution_count": 112,
   "metadata": {},
   "outputs": [
    {
     "data": {
      "text/plain": [
       "'Flavoured butters'"
      ]
     },
     "execution_count": 112,
     "metadata": {},
     "output_type": "execute_result"
    }
   ],
   "source": [
    "name[score_vegan.index(max(score_vegan))]"
   ]
  },
  {
   "cell_type": "code",
   "execution_count": 113,
   "metadata": {},
   "outputs": [
    {
     "data": {
      "text/plain": [
       "'Gravy for the Christmas turkey'"
      ]
     },
     "execution_count": 113,
     "metadata": {},
     "output_type": "execute_result"
    }
   ],
   "source": [
    "name[score_vegan.index(min(score_vegan))]"
   ]
  },
  {
   "cell_type": "markdown",
   "metadata": {},
   "source": [
    "gmoFree"
   ]
  },
  {
   "cell_type": "code",
   "execution_count": 108,
   "metadata": {
    "scrolled": true
   },
   "outputs": [
    {
     "data": {
      "text/plain": [
       "'Whisky cream & jelly with toasted oat crumble & tea sorbet'"
      ]
     },
     "execution_count": 108,
     "metadata": {},
     "output_type": "execute_result"
    }
   ],
   "source": [
    "name[score_gmoFree.index(max(score_gmoFree))]"
   ]
  },
  {
   "cell_type": "code",
   "execution_count": 109,
   "metadata": {},
   "outputs": [
    {
     "data": {
      "text/plain": [
       "'Christmas pie'"
      ]
     },
     "execution_count": 109,
     "metadata": {},
     "output_type": "execute_result"
    }
   ],
   "source": [
    "name[score_gmoFree.index(min(score_gmoFree))]"
   ]
  },
  {
   "cell_type": "markdown",
   "metadata": {},
   "source": [
    "kosher"
   ]
  },
  {
   "cell_type": "code",
   "execution_count": 106,
   "metadata": {},
   "outputs": [
    {
     "data": {
      "text/plain": [
       "'Flavoured butters'"
      ]
     },
     "execution_count": 106,
     "metadata": {},
     "output_type": "execute_result"
    }
   ],
   "source": [
    "name[score_kosher.index(max(score_kosher))]"
   ]
  },
  {
   "cell_type": "code",
   "execution_count": 107,
   "metadata": {},
   "outputs": [
    {
     "data": {
      "text/plain": [
       "'Christmas cosmopolitan'"
      ]
     },
     "execution_count": 107,
     "metadata": {},
     "output_type": "execute_result"
    }
   ],
   "source": [
    "name[score_kosher.index(min(score_kosher))]"
   ]
  },
  {
   "cell_type": "markdown",
   "metadata": {},
   "source": [
    "halal"
   ]
  },
  {
   "cell_type": "code",
   "execution_count": 104,
   "metadata": {},
   "outputs": [
    {
     "data": {
      "text/plain": [
       "'Flavoured butters'"
      ]
     },
     "execution_count": 104,
     "metadata": {},
     "output_type": "execute_result"
    }
   ],
   "source": [
    "name[score_halal.index(max(score_halal))]"
   ]
  },
  {
   "cell_type": "code",
   "execution_count": 105,
   "metadata": {},
   "outputs": [
    {
     "data": {
      "text/plain": [
       "'Christmas poussin'"
      ]
     },
     "execution_count": 105,
     "metadata": {},
     "output_type": "execute_result"
    }
   ],
   "source": [
    "name[score_halal.index(min(score_halal))]"
   ]
  },
  {
   "cell_type": "markdown",
   "metadata": {},
   "source": [
    "lowCarb"
   ]
  },
  {
   "cell_type": "code",
   "execution_count": 114,
   "metadata": {},
   "outputs": [
    {
     "data": {
      "text/plain": [
       "'Flavoured butters'"
      ]
     },
     "execution_count": 114,
     "metadata": {},
     "output_type": "execute_result"
    }
   ],
   "source": [
    "name[score_lowCarb.index(max(score_lowCarb))]"
   ]
  },
  {
   "cell_type": "code",
   "execution_count": 115,
   "metadata": {},
   "outputs": [
    {
     "data": {
      "text/plain": [
       "'Christmas pie'"
      ]
     },
     "execution_count": 115,
     "metadata": {},
     "output_type": "execute_result"
    }
   ],
   "source": [
    "name[score_lowCarb.index(min(score_lowCarb))]"
   ]
  },
  {
   "cell_type": "markdown",
   "metadata": {},
   "source": [
    "Since we got 6 groups of people - vegetarian, vegan, gmoFree, kosher, halal, lowCarb, we already find the special recipes that are most fit and unfit for them respectfully."
   ]
  },
  {
   "cell_type": "markdown",
   "metadata": {},
   "source": [
    "## 4.Recommendations"
   ]
  },
  {
   "cell_type": "markdown",
   "metadata": {},
   "source": [
    "For vegetarian, the most fit recipe is Sparkling snowfetti cake, the most unfit recipe is Christmas cosmopolitan<br>\n",
    "For vegan, the most fit recipe is Flavoured butters, the most unfit recipe is Gravy for the Christmas turkey<br>\n",
    "For gmoFree, the most fit recipe is Whisky cream & jelly with toasted oat crumble & tea sorbet, the most unfit recipe is Christmas pie<br>\n",
    "For kosher, the most fit recipe is Flavoured butters, the most unfit recipe is Christmas cosmopolitan<br>\n",
    "For halal, the most fit recipe is Flavoured butters, the most unfit recipe is Christmas poussin<br>\n",
    "For lowCarb, the most fit recipe is Flavoured butters, the most unfit recipe is Christmas pie<br>"
   ]
  },
  {
   "cell_type": "code",
   "execution_count": null,
   "metadata": {},
   "outputs": [],
   "source": []
  }
 ],
 "metadata": {
  "kernelspec": {
   "display_name": "Python 3",
   "language": "python",
   "name": "python3"
  },
  "language_info": {
   "codemirror_mode": {
    "name": "ipython",
    "version": 3
   },
   "file_extension": ".py",
   "mimetype": "text/x-python",
   "name": "python",
   "nbconvert_exporter": "python",
   "pygments_lexer": "ipython3",
   "version": "3.6.13"
  }
 },
 "nbformat": 4,
 "nbformat_minor": 4
}
